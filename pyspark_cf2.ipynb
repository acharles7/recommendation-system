{
 "cells": [
  {
   "cell_type": "markdown",
   "metadata": {},
   "source": [
    "### Recommendation System to compare with BSI \n",
    "This notebook provides items to recommend for given user"
   ]
  },
  {
   "cell_type": "code",
   "execution_count": 1,
   "metadata": {},
   "outputs": [],
   "source": [
    "from sklearn.metrics.pairwise import cosine_similarity\n",
    "import numpy as np\n",
    "import pandas as pd\n",
    "import heapq\n",
    "from pyspark.sql import SparkSession\n",
    "from pyspark.sql.types import StructField, IntegerType, StructType, FloatType"
   ]
  },
  {
   "cell_type": "code",
   "execution_count": 2,
   "metadata": {},
   "outputs": [],
   "source": [
    "spark = SparkSession.builder.appName(\"Charles\").getOrCreate()"
   ]
  },
  {
   "cell_type": "code",
   "execution_count": 4,
   "metadata": {},
   "outputs": [],
   "source": [
    "data_schema = [StructField('userId',IntegerType(),True),\n",
    "              StructField('movieId',IntegerType(),True),\n",
    "              StructField('rating',FloatType(),True)]\n",
    "final_structure = StructType(fields=data_schema)\n",
    "data = spark.read.csv('data/ratings_movie (1).csv', header=True, schema=final_structure)"
   ]
  },
  {
   "cell_type": "code",
   "execution_count": 5,
   "metadata": {},
   "outputs": [
    {
     "name": "stdout",
     "output_type": "stream",
     "text": [
      "Unique users: 610\n",
      "Unique items: 9724\n"
     ]
    }
   ],
   "source": [
    "print(\"Unique users: {}\".format(data.toPandas()['userId'].nunique()))\n",
    "print(\"Unique items: {}\".format(data.toPandas()['movieId'].nunique()))"
   ]
  },
  {
   "cell_type": "code",
   "execution_count": 19,
   "metadata": {},
   "outputs": [],
   "source": [
    "pivot_data = data.groupBy(\"movieId\").pivot(\"userId\").avg(\"rating\")\n",
    "pivot_data = pivot_data.fillna(0)\n",
    "utility_matrix = pivot_data.toPandas()\n",
    "utility_matrix = utility_matrix.set_index('movieId')"
   ]
  },
  {
   "cell_type": "code",
   "execution_count": 31,
   "metadata": {},
   "outputs": [],
   "source": [
    "def get_similar_users(df, TOP_K, USER_ID):\n",
    "    user_factors = df.values.T\n",
    "    user_mappings = dict(zip(np.arange(df.shape[1]), df.columns))\n",
    "\n",
    "    user_vector = user_factors[USER_ID-1].reshape(-1,1)\n",
    "    distance = cosine_similarity(user_factors, user_vector.T)\n",
    "\n",
    "    norms = np.sqrt(np.linalg.norm(user_factors, axis=1).reshape(-1, 1))\n",
    "    dist = np.multiply(distance, norms).reshape(-1)\n",
    "\n",
    "    close_idx = heapq.nlargest(TOP_K+1, range(len(dist)), dist.take)\n",
    "    close_pids = np.vectorize(user_mappings.__getitem__)(close_idx)\n",
    "    return close_pids[1:]\n",
    "\n",
    "def get_similar_items(users, utility_matrix, RATING_THRESHOLD, TOP_K_THRESHOLD):\n",
    "    matrix = []\n",
    "    similar_items = []\n",
    "    item_mapping = dict(zip(np.arange(utility_matrix.shape[0]), utility_matrix.index.values))\n",
    "    \n",
    "    for user in users:\n",
    "        matrix.append(utility_matrix.values.T[int(user)-1])\n",
    "\n",
    "    matrix = np.array(matrix).T\n",
    "    \n",
    "    for i in range(len(matrix)):\n",
    "        count = 0\n",
    "        for j in range(len(matrix[0])):\n",
    "            if matrix[i][j] > RATING_THRESHOLD:\n",
    "                count += 1\n",
    "        if count >= TOP_K_THRESHOLD:   \n",
    "            similar_items.append(item_mapping[i])\n",
    "    return similar_items"
   ]
  },
  {
   "cell_type": "code",
   "execution_count": 34,
   "metadata": {},
   "outputs": [
    {
     "name": "stdout",
     "output_type": "stream",
     "text": [
      "User ID: 1\n",
      "Similar User: ['414' '288' '599' '480' '590' '91' '274' '380' '57' '469']\n",
      "Recommended Items: [1580, 1127, 858, 1270, 1265, 588, 296, 2396, 593, 1653, 1198, 8961, 1201, 596, 1276, 1210, 2804, 1148, 1208, 2502, 1291, 924, 2791, 111, 1197, 47, 1206, 912, 1266, 1304, 1, 1682, 1089, 1242, 4993, 923, 1517, 1028, 4226, 4027, 2571, 1222, 1220, 1136, 6333, 1732, 1240, 1527, 3471, 318, 3671, 2403, 3499, 594, 2716, 2947, 3740, 6874, 2174, 1036, 2959, 2918, 1200, 2951, 1234, 7438, 589, 750, 1214, 50, 527, 293, 364, 356, 1213, 2529, 480, 1221, 1079, 8636, 3081, 32, 457, 608, 4306, 4963, 1617, 5952, 1196, 3362, 110, 541, 260, 2028, 1080, 2762, 1954, 2115, 1193, 3578, 1090, 2997, 551, 1278, 32587, 1097, 1258, 1387]\n"
     ]
    }
   ],
   "source": [
    "USER_ID = 1\n",
    "TOP_K = 10\n",
    "TOP_K_THRESHOLD = 7 # In 0 - TOP_K, select ratings from n user\n",
    "RATING_THRESHOLD = 3 # In 0 - 5 rating scale, select rating you want\n",
    "\n",
    "similar_user = get_similar_users(utility_matrix, TOP_K, USER_ID)\n",
    "similar_item = get_similar_items(similar_user, utility_matrix, RATING_THRESHOLD, TOP_K_THRESHOLD)\n",
    "\n",
    "print(\"User ID:\", USER_ID)\n",
    "print(\"Similar User:\", similar_user)\n",
    "print(\"Recommended Items:\", similar_item)"
   ]
  },
  {
   "cell_type": "code",
   "execution_count": null,
   "metadata": {},
   "outputs": [],
   "source": []
  }
 ],
 "metadata": {
  "kernelspec": {
   "display_name": "Python 3",
   "language": "python",
   "name": "python3"
  },
  "language_info": {
   "codemirror_mode": {
    "name": "ipython",
    "version": 3
   },
   "file_extension": ".py",
   "mimetype": "text/x-python",
   "name": "python",
   "nbconvert_exporter": "python",
   "pygments_lexer": "ipython3",
   "version": "3.7.0b1"
  }
 },
 "nbformat": 4,
 "nbformat_minor": 2
}
