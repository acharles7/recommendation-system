{
 "cells": [
  {
   "cell_type": "code",
   "execution_count": 1,
   "metadata": {},
   "outputs": [],
   "source": [
    "\"\"\"\n",
    "Collaborative Filtering ALS Recommender System using Spark MLlib adapted from\n",
    "the Spark Summit 2014 Recommender System training example.\n",
    "\n",
    "Developed By: Pranav Masariya\n",
    "Supervisor: Dr. Magdalini Eirinaki\n",
    "\"\"\"\n",
    "\n",
    "import os\n",
    "import numpy as np\n",
    "from pyspark.sql import SparkSession\n",
    "from pyspark import SparkContext\n",
    "\n",
    "from pyspark.mllib.recommendation import ALS\n",
    "import math\n",
    "import pyspark.sql\n",
    "from pyspark.sql.functions import udf\n",
    "from pyspark.sql.types import *\n",
    "from pyspark.ml.evaluation import RegressionEvaluator"
   ]
  },
  {
   "cell_type": "code",
   "execution_count": 2,
   "metadata": {},
   "outputs": [],
   "source": [
    "# Calling spark session to register application\n",
    "spark = SparkSession \\\n",
    "    .builder \\\n",
    "    .appName(\"Recom\") \\\n",
    "    .config(\"spark.recom.demo\", \"1\") \\\n",
    "    .getOrCreate()\n",
    "# lambda word: (word, 1)"
   ]
  },
  {
   "cell_type": "code",
   "execution_count": 3,
   "metadata": {},
   "outputs": [],
   "source": [
    "ratings_df = spark.read \\\n",
    "    .format(\"csv\") \\\n",
    "    .option(\"header\", \"true\") \\\n",
    "    .option(\"inferSchema\", \"true\") \\\n",
    "    .load(\"traing_surprise.csv\")"
   ]
  },
  {
   "cell_type": "code",
   "execution_count": 4,
   "metadata": {},
   "outputs": [
    {
     "name": "stdout",
     "output_type": "stream",
     "text": [
      "+---+-----+----------+-------+\n",
      "|_c0| asin|reviewerID|overall|\n",
      "+---+-----+----------+-------+\n",
      "|  0|52021|     15012|      4|\n",
      "|  1|42867|     20330|      5|\n",
      "|  2| 9168|     62907|      5|\n",
      "|  3|26051|     11778|      4|\n",
      "|  4|30061|     63717|      4|\n",
      "+---+-----+----------+-------+\n",
      "only showing top 5 rows\n",
      "\n"
     ]
    }
   ],
   "source": [
    "ratings_df.show(5)"
   ]
  },
  {
   "cell_type": "code",
   "execution_count": 7,
   "metadata": {},
   "outputs": [
    {
     "data": {
      "text/plain": [
       "687833"
      ]
     },
     "execution_count": 7,
     "metadata": {},
     "output_type": "execute_result"
    }
   ],
   "source": [
    "ratings_df.count()"
   ]
  },
  {
   "cell_type": "code",
   "execution_count": 8,
   "metadata": {},
   "outputs": [
    {
     "name": "stdout",
     "output_type": "stream",
     "text": [
      "+-----+----------+-------+\n",
      "| asin|reviewerID|overall|\n",
      "+-----+----------+-------+\n",
      "|52021|     15012|      4|\n",
      "|42867|     20330|      5|\n",
      "| 9168|     62907|      5|\n",
      "|26051|     11778|      4|\n",
      "|30061|     63717|      4|\n",
      "+-----+----------+-------+\n",
      "only showing top 5 rows\n",
      "\n"
     ]
    }
   ],
   "source": [
    "ratings_df = ratings_df.drop(\"_c0\")\n",
    "ratings_df.show(5)"
   ]
  },
  {
   "cell_type": "code",
   "execution_count": 32,
   "metadata": {},
   "outputs": [],
   "source": [
    "testing_df = spark.read \\\n",
    "    .format(\"csv\") \\\n",
    "    .option(\"header\", \"true\") \\\n",
    "    .option(\"inferSchema\", \"true\") \\\n",
    "    .load(\"py_test_set.csv\")"
   ]
  },
  {
   "cell_type": "code",
   "execution_count": 33,
   "metadata": {},
   "outputs": [],
   "source": [
    "validation_df = spark.read \\\n",
    "    .format(\"csv\") \\\n",
    "    .option(\"header\", \"true\") \\\n",
    "    .option(\"inferSchema\", \"true\") \\\n",
    "    .load(\"py_validation_set.csv\")"
   ]
  },
  {
   "cell_type": "code",
   "execution_count": 34,
   "metadata": {},
   "outputs": [
    {
     "data": {
      "text/plain": [
       "294786"
      ]
     },
     "execution_count": 34,
     "metadata": {},
     "output_type": "execute_result"
    }
   ],
   "source": [
    "validation_df.count()"
   ]
  },
  {
   "cell_type": "code",
   "execution_count": 35,
   "metadata": {},
   "outputs": [
    {
     "name": "stdout",
     "output_type": "stream",
     "text": [
      "+-----+----------+-------+\n",
      "| asin|reviewerID|overall|\n",
      "+-----+----------+-------+\n",
      "|53990|     51353|      4|\n",
      "|16865|     24035|      4|\n",
      "|56330|     44344|      5|\n",
      "|37794|     68137|      4|\n",
      "| 1268|     16332|      4|\n",
      "+-----+----------+-------+\n",
      "only showing top 5 rows\n",
      "\n"
     ]
    }
   ],
   "source": [
    "testing_df = testing_df.drop(\"_c0\")\n",
    "testing_df.show(5)"
   ]
  },
  {
   "cell_type": "code",
   "execution_count": 37,
   "metadata": {},
   "outputs": [],
   "source": [
    "(_,_,validationData) = testing_df.randomSplit([0.6,0.2,0.2]) # randomSplit(x, weights, seed)\n"
   ]
  },
  {
   "cell_type": "code",
   "execution_count": 60,
   "metadata": {},
   "outputs": [],
   "source": [
    " validation_df = validation_df.drop(\"_c0\")"
   ]
  },
  {
   "cell_type": "code",
   "execution_count": 61,
   "metadata": {},
   "outputs": [],
   "source": [
    "\n",
    "validation_for_predict = validationData.drop(\"overall\")\n"
   ]
  },
  {
   "cell_type": "code",
   "execution_count": 62,
   "metadata": {},
   "outputs": [
    {
     "name": "stdout",
     "output_type": "stream",
     "text": [
      "+----+----------+-------+\n",
      "|asin|reviewerID|overall|\n",
      "+----+----------+-------+\n",
      "|   2|     18103|      5|\n",
      "|   2|     40593|      3|\n",
      "|   6|     66740|      5|\n",
      "|   8|     58308|      4|\n",
      "|   9|      4360|      5|\n",
      "|   9|     34774|      1|\n",
      "|  10|     36501|      3|\n",
      "|  20|      2192|      5|\n",
      "|  20|     26125|      5|\n",
      "|  20|     33173|      5|\n",
      "|  20|     45923|      4|\n",
      "|  23|     14930|      4|\n",
      "|  23|     54666|      4|\n",
      "|  24|     37710|      5|\n",
      "|  25|      7665|      5|\n",
      "|  26|      8388|      5|\n",
      "|  27|       670|      4|\n",
      "|  27|     39357|      5|\n",
      "|  36|     43423|      5|\n",
      "|  39|      1435|      5|\n",
      "+----+----------+-------+\n",
      "only showing top 20 rows\n",
      "\n"
     ]
    }
   ],
   "source": [
    "validationData.show()"
   ]
  },
  {
   "cell_type": "code",
   "execution_count": 63,
   "metadata": {},
   "outputs": [
    {
     "name": "stdout",
     "output_type": "stream",
     "text": [
      "+----+----------+\n",
      "|asin|reviewerID|\n",
      "+----+----------+\n",
      "|   2|     18103|\n",
      "|   2|     40593|\n",
      "|   6|     66740|\n",
      "|   8|     58308|\n",
      "|   9|      4360|\n",
      "|   9|     34774|\n",
      "|  10|     36501|\n",
      "|  20|      2192|\n",
      "|  20|     26125|\n",
      "|  20|     33173|\n",
      "|  20|     45923|\n",
      "|  23|     14930|\n",
      "|  23|     54666|\n",
      "|  24|     37710|\n",
      "|  25|      7665|\n",
      "|  26|      8388|\n",
      "|  27|       670|\n",
      "|  27|     39357|\n",
      "|  36|     43423|\n",
      "|  39|      1435|\n",
      "+----+----------+\n",
      "only showing top 20 rows\n",
      "\n"
     ]
    }
   ],
   "source": [
    "validation_for_predict.show()"
   ]
  },
  {
   "cell_type": "code",
   "execution_count": 64,
   "metadata": {},
   "outputs": [],
   "source": [
    "seed = 5 #Random seed for initial matrix factorization model. A value of None will use system time as the seed.\n",
    "iterations = 10\n",
    "regularization_parameter = 0.1 #run for different lambdas - e.g. 0.01\n",
    "ranks = [4, 8, 12] #number of features"
   ]
  },
  {
   "cell_type": "code",
   "execution_count": null,
   "metadata": {},
   "outputs": [],
   "source": []
  },
  {
   "cell_type": "code",
   "execution_count": 65,
   "metadata": {},
   "outputs": [
    {
     "name": "stdout",
     "output_type": "stream",
     "text": [
      "For rank 4 the RMSE is  1.1859088283230408\n",
      "For rank 8 the RMSE is  0.705891975645383\n",
      "For rank 12 the RMSE is  0.5942899896999723\n",
      "The best model was trained with rank 12\n"
     ]
    }
   ],
   "source": [
    "min_error = 1000\n",
    "for rank in ranks:\n",
    "    model = ALS.train(ratings_df, rank, seed=seed, iterations=iterations,\n",
    "                      lambda_=regularization_parameter)\n",
    "    \n",
    "    predictions = model.predictAll(validation_for_predict.rdd).map(lambda r: ((r[0], r[1]), r[2]))\n",
    "    rates_and_preds = validationData.rdd.map(lambda r: ((int(r[0]), int(r[1])), float(r[2]))).join(predictions)\n",
    "    error = math.sqrt(rates_and_preds.map(lambda r: (r[1][0] - r[1][1])**2).mean()) # RMSE Error\n",
    "\n",
    "    print ('For rank',rank, \"the RMSE is \", error)\n",
    "    if error < min_error:\n",
    "        min_error = error\n",
    "        best_rank = rank\n",
    "\n",
    "print (\"The best model was trained with rank\", best_rank)"
   ]
  },
  {
   "cell_type": "code",
   "execution_count": 66,
   "metadata": {},
   "outputs": [
    {
     "name": "stdout",
     "output_type": "stream",
     "text": [
      "+-----+----------+-------+\n",
      "| asin|reviewerID|overall|\n",
      "+-----+----------+-------+\n",
      "|53990|     51353|      5|\n",
      "|16865|     24035|      5|\n",
      "|56330|     44344|      5|\n",
      "|37794|     68137|      5|\n",
      "| 1268|     16332|      5|\n",
      "|17755|     12362|      5|\n",
      "|49764|     66410|      5|\n",
      "|25200|     49450|      5|\n",
      "|14099|     40115|      5|\n",
      "|21067|     11999|      5|\n",
      "|39364|     28660|      5|\n",
      "|24739|     13206|      5|\n",
      "|36963|     41622|      5|\n",
      "|21986|     19975|      5|\n",
      "|35972|     21052|      5|\n",
      "|56761|     53401|      5|\n",
      "|61080|     25504|      5|\n",
      "| 6394|     61153|      5|\n",
      "| 2755|     42778|      5|\n",
      "| 2307|      4386|      5|\n",
      "+-----+----------+-------+\n",
      "only showing top 20 rows\n",
      "\n"
     ]
    }
   ],
   "source": [
    "validation_df.show()"
   ]
  },
  {
   "cell_type": "code",
   "execution_count": 67,
   "metadata": {},
   "outputs": [],
   "source": [
    "test_for_predict = validation_df.drop(\"overall\")\n",
    "test_for_predict = test_for_predict.drop(\"_c0\")"
   ]
  },
  {
   "cell_type": "code",
   "execution_count": 68,
   "metadata": {},
   "outputs": [
    {
     "name": "stdout",
     "output_type": "stream",
     "text": [
      "+-----+----------+\n",
      "| asin|reviewerID|\n",
      "+-----+----------+\n",
      "|53990|     51353|\n",
      "|16865|     24035|\n",
      "|56330|     44344|\n",
      "|37794|     68137|\n",
      "| 1268|     16332|\n",
      "|17755|     12362|\n",
      "|49764|     66410|\n",
      "|25200|     49450|\n",
      "|14099|     40115|\n",
      "|21067|     11999|\n",
      "|39364|     28660|\n",
      "|24739|     13206|\n",
      "|36963|     41622|\n",
      "|21986|     19975|\n",
      "|35972|     21052|\n",
      "|56761|     53401|\n",
      "|61080|     25504|\n",
      "| 6394|     61153|\n",
      "| 2755|     42778|\n",
      "| 2307|      4386|\n",
      "+-----+----------+\n",
      "only showing top 20 rows\n",
      "\n"
     ]
    }
   ],
   "source": [
    "test_for_predict.show()"
   ]
  },
  {
   "cell_type": "code",
   "execution_count": 69,
   "metadata": {},
   "outputs": [
    {
     "data": {
      "text/plain": [
       "294786"
      ]
     },
     "execution_count": 69,
     "metadata": {},
     "output_type": "execute_result"
    }
   ],
   "source": [
    "test_for_predict.count()//294745"
   ]
  },
  {
   "cell_type": "code",
   "execution_count": 70,
   "metadata": {},
   "outputs": [
    {
     "name": "stdout",
     "output_type": "stream",
     "text": [
      "+-----+----------+-------+\n",
      "| asin|reviewerID|overall|\n",
      "+-----+----------+-------+\n",
      "|53990|     51353|      5|\n",
      "|16865|     24035|      5|\n",
      "|56330|     44344|      5|\n",
      "|37794|     68137|      5|\n",
      "| 1268|     16332|      5|\n",
      "|17755|     12362|      5|\n",
      "|49764|     66410|      5|\n",
      "|25200|     49450|      5|\n",
      "|14099|     40115|      5|\n",
      "|21067|     11999|      5|\n",
      "|39364|     28660|      5|\n",
      "|24739|     13206|      5|\n",
      "|36963|     41622|      5|\n",
      "|21986|     19975|      5|\n",
      "|35972|     21052|      5|\n",
      "|56761|     53401|      5|\n",
      "|61080|     25504|      5|\n",
      "| 6394|     61153|      5|\n",
      "| 2755|     42778|      5|\n",
      "| 2307|      4386|      5|\n",
      "+-----+----------+-------+\n",
      "only showing top 20 rows\n",
      "\n"
     ]
    }
   ],
   "source": [
    "validation_df.show()"
   ]
  },
  {
   "cell_type": "code",
   "execution_count": 71,
   "metadata": {},
   "outputs": [],
   "source": [
    "prediction = model.predictAll(test_for_predict.rdd)"
   ]
  },
  {
   "cell_type": "code",
   "execution_count": 72,
   "metadata": {},
   "outputs": [
    {
     "data": {
      "text/plain": [
       "294745"
      ]
     },
     "execution_count": 72,
     "metadata": {},
     "output_type": "execute_result"
    }
   ],
   "source": [
    "prediction.count()"
   ]
  },
  {
   "cell_type": "code",
   "execution_count": 23,
   "metadata": {},
   "outputs": [
    {
     "data": {
      "text/plain": [
       "[Rating(user=28105, product=57436, rating=3.782193531242547),\n",
       " Rating(user=965, product=57436, rating=2.99500068547825),\n",
       " Rating(user=31199, product=18624, rating=4.838887675062123)]"
      ]
     },
     "execution_count": 23,
     "metadata": {},
     "output_type": "execute_result"
    }
   ],
   "source": [
    "prediction.take(3)"
   ]
  },
  {
   "cell_type": "code",
   "execution_count": 24,
   "metadata": {},
   "outputs": [],
   "source": [
    "from pyspark.sql.types import Row\n",
    "\n",
    "#here you are going to create a function\n",
    "def f(x):\n",
    "    d = {}\n",
    "#     \"asin\":x[0],\"reviewerID\":x[1],\"overall\":x[2]\n",
    "    d[\"asin\"] = x[0]\n",
    "    d[\"reviewerID\"] = x[1]\n",
    "    d[\"overall\"] = x[2]\n",
    "    print(x)\n",
    "    return d"
   ]
  },
  {
   "cell_type": "code",
   "execution_count": 25,
   "metadata": {},
   "outputs": [],
   "source": [
    "test_df = prediction.map(lambda x: Row(**f(x))).toDF()"
   ]
  },
  {
   "cell_type": "code",
   "execution_count": 76,
   "metadata": {},
   "outputs": [
    {
     "data": {
      "text/plain": [
       "291098"
      ]
     },
     "execution_count": 76,
     "metadata": {},
     "output_type": "execute_result"
    }
   ],
   "source": [
    "test_df.count()"
   ]
  },
  {
   "cell_type": "code",
   "execution_count": 73,
   "metadata": {},
   "outputs": [
    {
     "name": "stdout",
     "output_type": "stream",
     "text": [
      "+-----+------------------+----------+\n",
      "| asin|           overall|reviewerID|\n",
      "+-----+------------------+----------+\n",
      "|28105| 3.782193531242547|     57436|\n",
      "|  965|  2.99500068547825|     57436|\n",
      "|31199| 4.838887675062123|     18624|\n",
      "|39244|3.9429087363878317|     32196|\n",
      "|25050|4.5552665501405745|     32196|\n",
      "|54586| 4.941920299052484|     32196|\n",
      "|38991| 4.932972505086246|     32196|\n",
      "|52203|3.4665720642780817|     32196|\n",
      "|34452|  3.25926269832587|     54040|\n",
      "|36776|  3.95045163897624|     54040|\n",
      "|15096| 4.944374899144345|     54040|\n",
      "|31941| 4.784060993519634|     54040|\n",
      "| 3973| 3.099652667890167|     54040|\n",
      "|24127| 3.200659853613787|     54040|\n",
      "|58963| 4.909371624415071|     54040|\n",
      "| 6419| 3.656857803138702|     54040|\n",
      "|60443| 2.902866109563715|     54040|\n",
      "| 9690|0.5905607385864561|      7608|\n",
      "|20983|2.8481622320792366|      7608|\n",
      "|16376| 3.603550941274074|     18500|\n",
      "+-----+------------------+----------+\n",
      "only showing top 20 rows\n",
      "\n"
     ]
    }
   ],
   "source": [
    "test_df.show()\n"
   ]
  },
  {
   "cell_type": "code",
   "execution_count": 75,
   "metadata": {},
   "outputs": [],
   "source": [
    "test_df.coalesce(1).write.csv(\"baseline\")"
   ]
  },
  {
   "cell_type": "code",
   "execution_count": null,
   "metadata": {},
   "outputs": [],
   "source": []
  }
 ],
 "metadata": {
  "kernelspec": {
   "display_name": "Python 3",
   "language": "python",
   "name": "python3"
  },
  "language_info": {
   "codemirror_mode": {
    "name": "ipython",
    "version": 3
   },
   "file_extension": ".py",
   "mimetype": "text/x-python",
   "name": "python",
   "nbconvert_exporter": "python",
   "pygments_lexer": "ipython3",
   "version": "3.7.0b1"
  }
 },
 "nbformat": 4,
 "nbformat_minor": 2
}
